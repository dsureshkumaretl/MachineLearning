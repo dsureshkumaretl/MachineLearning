{
 "cells": [
  {
   "cell_type": "code",
   "execution_count": 9,
   "id": "f8eff6c6",
   "metadata": {},
   "outputs": [
    {
     "name": "stderr",
     "output_type": "stream",
     "text": [
      "C:\\Users\\hp\\AppData\\Local\\Temp\\ipykernel_11864\\3408930194.py:2: DtypeWarning: Columns (0) have mixed types. Specify dtype option on import or set low_memory=False.\n",
      "  csv1 = pd.read_csv(\"Accident_Information.csv\")\n"
     ]
    }
   ],
   "source": [
    "import pandas as pd\n",
    "csv1 = pd.read_csv(\"Accident_Information.csv\")\n",
    "#csv1.head()\n",
    "\n",
    "csv2 = pd.read_csv(\"Vehicle_Information.csv\",encoding='latin1')\n",
    "#csv2.head()\n",
    "file_name='uk_accidents_2005_2014.csv'\n",
    "merged_data = csv1.merge(csv2,on=[\"Accident_Index\"])\n",
    "#merged_data.head()\n",
    "merged_data.to_csv(file_name, sep=',', encoding='utf-8',index=False,header=False)\n",
    "#data1 = pd.read_csv(\"data/sheet1.csv\")\n",
    "#data1.head()\n",
    "#,header=False\n",
    "#data2 = pd.read_csv(\"data/sheet2.csv\")\n",
    "#data2.head()\n",
    "\n",
    "#concate_data = pd.concat([data1,data2])\n",
    "#concate_data.head()"
   ]
  },
  {
   "cell_type": "code",
   "execution_count": null,
   "id": "2bc391a6",
   "metadata": {},
   "outputs": [],
   "source": []
  }
 ],
 "metadata": {
  "kernelspec": {
   "display_name": "Python 3 (ipykernel)",
   "language": "python",
   "name": "python3"
  },
  "language_info": {
   "codemirror_mode": {
    "name": "ipython",
    "version": 3
   },
   "file_extension": ".py",
   "mimetype": "text/x-python",
   "name": "python",
   "nbconvert_exporter": "python",
   "pygments_lexer": "ipython3",
   "version": "3.10.7"
  }
 },
 "nbformat": 4,
 "nbformat_minor": 5
}
